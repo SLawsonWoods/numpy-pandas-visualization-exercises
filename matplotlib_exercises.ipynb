{
 "cells": [
  {
   "cell_type": "code",
   "execution_count": 13,
   "id": "36a6d790",
   "metadata": {},
   "outputs": [
    {
     "name": "stdout",
     "output_type": "stream",
     "text": [
      "<module 'matplotlib.pyplot' from '/usr/local/anaconda3/lib/python3.8/site-packages/matplotlib/pyplot.py'>\n"
     ]
    }
   ],
   "source": [
    "import pandas as pd\n",
    "import matplotlib.pyplot as plt\n",
    "print(plt)"
   ]
  },
  {
   "cell_type": "code",
   "execution_count": 33,
   "id": "c71bbc32",
   "metadata": {},
   "outputs": [],
   "source": [
    "from random import randint\n",
    "import math\n"
   ]
  },
  {
   "cell_type": "code",
   "execution_count": 29,
   "id": "6647dde5",
   "metadata": {},
   "outputs": [
    {
     "data": {
      "image/png": "[encoded data removed]",
      "text/plain": [
       "<Figure size 432x288 with 1 Axes>"
      ]
     },
     "metadata": {
      "needs_background": "light"
     },
     "output_type": "display_data"
    }
   ],
   "source": [
    "## 1. Use matplotlib to plot the following equation:\n",
    "x = pd.Series(list(range(180)))\n",
    "y=x**2-x+2\n",
    "plt.plot(x,y)\n",
    "plt.scatter(x,y)\n",
    "plt.text(7, 2, '(0, 0)', fontsize=10, color='blue')\n",
    "plt.xlim(-50, 200)\n",
    "plt.ylim(-50, 160)\n",
    "plt.show()\n",
    "# plot 0, 0\n",
    "# add annotation for 0,0\n"
   ]
  },
  {
   "cell_type": "code",
   "execution_count": 60,
   "id": "6c2599f9",
   "metadata": {},
   "outputs": [
    {
     "data": {
      "image/png": "[encoded data removed]",
      "text/plain": [
       "<Figure size 432x288 with 4 Axes>"
      ]
     },
     "metadata": {
      "needs_background": "light"
     },
     "output_type": "display_data"
    }
   ],
   "source": [
    "## 2. Create and label 4 separate charts for the following equations (choose a range for x that makes sense):\n",
    "# use subplot to display all four charts\n",
    "n_rows = 2\n",
    "n_cols = 2\n",
    "\n",
    "# plot the first subplot\n",
    "x= pd.Series(list(range(20)))\n",
    "y= x**3\n",
    "plt.subplot(2, 2, 1)\n",
    "plt.plot(x,y)\n",
    "\n",
    "\n",
    "# the second subplot\n",
    "x= pd.Series(list(range(20)))\n",
    "y= 2**x\n",
    "plt.subplot(2, 2, 2)\n",
    "plt.plot(x, y)\n",
    "\n",
    "# the third subplot\n",
    "x= pd.Series(list(range(20)))\n",
    "y= 1/(x+1)\n",
    "plt.subplot(2, 2, 3)\n",
    "plt.plot(x, y)\n",
    "\n",
    "# the forth subplot\n",
    "x= pd.Series(list(range(20)))\n",
    "y= x**0.5\n",
    "plt.subplot(2, 2, 4)\n",
    "plt.plot(x, y)\n",
    "\n",
    "plt.show()"
   ]
  },
  {
   "cell_type": "code",
   "execution_count": null,
   "id": "e44f3c5b",
   "metadata": {},
   "outputs": [],
   "source": [
    "## 3. Combine the figures you created in the last step into one large figure with 4 subplots.\n",
    "## see above"
   ]
  },
  {
   "cell_type": "code",
   "execution_count": null,
   "id": "b6fbc9d2",
   "metadata": {},
   "outputs": [],
   "source": [
    "## 4. Combine the figures you created in the last step into one figure where each of the 4 equations has a \n",
    "## different color for the points. Be sure to include a legend and an appropriate title for the figure.\n",
    "# plot the first subplot\n",
    "x= pd.Series(list(range(20)))\n",
    "y= x**3\n",
    "plt.subplot(2, 2, 1)\n",
    "plt.text(7, 2, '(0, 0)', fontsize=10, color='blue')\n",
    "plt.title('A couple of random series')\n",
    "plt.plot(x,y)\n",
    "\n",
    "\n",
    "# the second subplot\n",
    "x= pd.Series(list(range(20)))\n",
    "y= 2**x\n",
    "plt.subplot(2, 2, 2)\n",
    "plt.text(7, 2, '(0, 0)', fontsize=10, color='blue')\n",
    "plt.title('A couple of random series')\n",
    "plt.plot(x, y)\n",
    "\n",
    "# the third subplot\n",
    "x= pd.Series(list(range(20)))\n",
    "y= 1/(x+1)\n",
    "plt.subplot(2, 2, 3)\n",
    "plt.text(7, 2, '(0, 0)', fontsize=10, color='blue')\n",
    "plt.title('A couple of random series')\n",
    "plt.plot(x, y)\n",
    "\n",
    "# the forth subplot\n",
    "x= pd.Series(list(range(20)))\n",
    "y= x**0.5\n",
    "plt.subplot(2, 2, 4)\n",
    "plt.text(7, 2, '(0, 0)', fontsize=10, color='blue')\n",
    "plt.title('A couple of random series')\n",
    "plt.plot(x, y)\n",
    "\n",
    "plt.show()\n",
    "\n",
    "\n",
    "\n",
    "plt.text(7, 2, '(0, 0)', fontsize=10, color='blue')\n",
    "plt.title('A couple of random series')"
   ]
  }
 ],
 "metadata": {
  "kernelspec": {
   "display_name": "Python 3",
   "language": "python",
   "name": "python3"
  },
  "language_info": {
   "codemirror_mode": {
    "name": "ipython",
    "version": 3
   },
   "file_extension": ".py",
   "mimetype": "text/x-python",
   "name": "python",
   "nbconvert_exporter": "python",
   "pygments_lexer": "ipython3",
   "version": "3.8.8"
  }
 },
 "nbformat": 4,
 "nbformat_minor": 5
}
