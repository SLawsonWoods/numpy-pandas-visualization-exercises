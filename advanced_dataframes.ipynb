{
 "cells": [
  {
   "cell_type": "code",
   "execution_count": 1,
   "id": "e074a22d",
   "metadata": {},
   "outputs": [],
   "source": [
    "import pandas as pd\n",
    "import numpy as np\n",
    "\n",
    "np.random.seed(123)"
   ]
  },
  {
   "cell_type": "code",
   "execution_count": 2,
   "id": "8cb48ff2",
   "metadata": {},
   "outputs": [],
   "source": [
    "from env import user, password, host\n",
    "\n",
    "## Create a function named get_db_url. It should accept a username, hostname, password, and database name and \n",
    "## return a url connection string formatted like in the example at the start of this lesson.\n",
    "def get_db_url(user, password, host, db_name):\n",
    "    return f'mysql+pymysql://{user}:{password}@{host}/{db_name}'\n",
    "    \n",
    "url = get_db_url = get_db_url(user, password, host, 'employees')\n",
    "\n"
   ]
  },
  {
   "cell_type": "code",
   "execution_count": 3,
   "id": "a003b198",
   "metadata": {},
   "outputs": [
    {
     "data": {
      "text/html": [
       "<div>\n",
       "<style scoped>\n",
       "    .dataframe tbody tr th:only-of-type {\n",
       "        vertical-align: middle;\n",
       "    }\n",
       "\n",
       "    .dataframe tbody tr th {\n",
       "        vertical-align: top;\n",
       "    }\n",
       "\n",
       "    .dataframe thead th {\n",
       "        text-align: right;\n",
       "    }\n",
       "</style>\n",
       "<table border=\"1\" class=\"dataframe\">\n",
       "  <thead>\n",
       "    <tr style=\"text-align: right;\">\n",
       "      <th></th>\n",
       "      <th>emp_no</th>\n",
       "      <th>birth_date</th>\n",
       "      <th>first_name</th>\n",
       "      <th>last_name</th>\n",
       "      <th>gender</th>\n",
       "      <th>hire_date</th>\n",
       "    </tr>\n",
       "  </thead>\n",
       "  <tbody>\n",
       "    <tr>\n",
       "      <th>0</th>\n",
       "      <td>10051</td>\n",
       "      <td>1953-07-28</td>\n",
       "      <td>Hidefumi</td>\n",
       "      <td>Caine</td>\n",
       "      <td>M</td>\n",
       "      <td>1992-10-15</td>\n",
       "    </tr>\n",
       "    <tr>\n",
       "      <th>1</th>\n",
       "      <td>10052</td>\n",
       "      <td>1961-02-26</td>\n",
       "      <td>Heping</td>\n",
       "      <td>Nitsch</td>\n",
       "      <td>M</td>\n",
       "      <td>1988-05-21</td>\n",
       "    </tr>\n",
       "    <tr>\n",
       "      <th>2</th>\n",
       "      <td>10053</td>\n",
       "      <td>1954-09-13</td>\n",
       "      <td>Sanjiv</td>\n",
       "      <td>Zschoche</td>\n",
       "      <td>F</td>\n",
       "      <td>1986-02-04</td>\n",
       "    </tr>\n",
       "    <tr>\n",
       "      <th>3</th>\n",
       "      <td>10054</td>\n",
       "      <td>1957-04-04</td>\n",
       "      <td>Mayumi</td>\n",
       "      <td>Schueller</td>\n",
       "      <td>M</td>\n",
       "      <td>1995-03-13</td>\n",
       "    </tr>\n",
       "    <tr>\n",
       "      <th>4</th>\n",
       "      <td>10055</td>\n",
       "      <td>1956-06-06</td>\n",
       "      <td>Georgy</td>\n",
       "      <td>Dredge</td>\n",
       "      <td>M</td>\n",
       "      <td>1992-04-27</td>\n",
       "    </tr>\n",
       "  </tbody>\n",
       "</table>\n",
       "</div>"
      ],
      "text/plain": [
       "   emp_no  birth_date first_name  last_name gender   hire_date\n",
       "0   10051  1953-07-28   Hidefumi      Caine      M  1992-10-15\n",
       "1   10052  1961-02-26     Heping     Nitsch      M  1988-05-21\n",
       "2   10053  1954-09-13     Sanjiv   Zschoche      F  1986-02-04\n",
       "3   10054  1957-04-04     Mayumi  Schueller      M  1995-03-13\n",
       "4   10055  1956-06-06     Georgy     Dredge      M  1992-04-27"
      ]
     },
     "execution_count": 3,
     "metadata": {},
     "output_type": "execute_result"
    }
   ],
   "source": [
    "## 4. Use your function to obtain a connection to the employees database.\n",
    "pd.read_sql(' SELECT * FROM employees LIMIT 5 OFFSET 50', url)"
   ]
  },
  {
   "cell_type": "markdown",
   "id": "ac16aa56",
   "metadata": {},
   "source": [
    "## Once you have successfully run a query:\n",
    "\n",
    "a. Intentionally make a typo in the database url. What kind of error message do you see?\n",
    "\n",
    "b. Intentionally make an error in your SQL query. What does the error message look like?"
   ]
  },
  {
   "cell_type": "code",
   "execution_count": 4,
   "id": "99438337",
   "metadata": {},
   "outputs": [],
   "source": [
    "## 5a. You get an error when you run the connection to the employees database"
   ]
  },
  {
   "cell_type": "code",
   "execution_count": 5,
   "id": "aec4a26a",
   "metadata": {},
   "outputs": [],
   "source": [
    "## 5b. You get an error for syntax"
   ]
  },
  {
   "cell_type": "code",
   "execution_count": 9,
   "id": "2ad53a3f",
   "metadata": {},
   "outputs": [
    {
     "ename": "TypeError",
     "evalue": "'str' object is not callable",
     "output_type": "error",
     "traceback": [
      "\u001b[0;31m---------------------------------------------------------------------------\u001b[0m",
      "\u001b[0;31mTypeError\u001b[0m                                 Traceback (most recent call last)",
      "\u001b[0;32m<ipython-input-9-178ce9d3f999>\u001b[0m in \u001b[0;36m<module>\u001b[0;34m\u001b[0m\n\u001b[1;32m      1\u001b[0m \u001b[0;31m## 6. Read the employees and titles tables into two separate DataFrames.\u001b[0m\u001b[0;34m\u001b[0m\u001b[0;34m\u001b[0m\u001b[0;34m\u001b[0m\u001b[0m\n\u001b[0;32m----> 2\u001b[0;31m \u001b[0memployees\u001b[0m \u001b[0;34m=\u001b[0m \u001b[0mget_db_url\u001b[0m\u001b[0;34m(\u001b[0m\u001b[0muser\u001b[0m\u001b[0;34m,\u001b[0m \u001b[0mhost\u001b[0m\u001b[0;34m,\u001b[0m \u001b[0mpassword\u001b[0m\u001b[0;34m,\u001b[0m \u001b[0;34m'employees'\u001b[0m\u001b[0;34m,\u001b[0m \u001b[0;34m'select * from employees'\u001b[0m\u001b[0;34m)\u001b[0m\u001b[0;34m\u001b[0m\u001b[0;34m\u001b[0m\u001b[0m\n\u001b[0m\u001b[1;32m      3\u001b[0m \u001b[0memployees\u001b[0m\u001b[0;34m.\u001b[0m\u001b[0mhead\u001b[0m\u001b[0;34m(\u001b[0m\u001b[0;36m5\u001b[0m\u001b[0;34m)\u001b[0m\u001b[0;34m\u001b[0m\u001b[0;34m\u001b[0m\u001b[0m\n",
      "\u001b[0;31mTypeError\u001b[0m: 'str' object is not callable"
     ]
    }
   ],
   "source": [
    "## 6. Read the employees and titles tables into two separate DataFrames.\n",
    "employees = get_db_url(user, host, password, 'employees', 'select * from employees')\n",
    "employees.head(5)"
   ]
  },
  {
   "cell_type": "code",
   "execution_count": 7,
   "id": "56d5540a",
   "metadata": {},
   "outputs": [
    {
     "ename": "NameError",
     "evalue": "name 'employees' is not defined",
     "output_type": "error",
     "traceback": [
      "\u001b[0;31m---------------------------------------------------------------------------\u001b[0m",
      "\u001b[0;31mNameError\u001b[0m                                 Traceback (most recent call last)",
      "\u001b[0;32m<ipython-input-7-126bc172641c>\u001b[0m in \u001b[0;36m<module>\u001b[0;34m\u001b[0m\n\u001b[1;32m      1\u001b[0m \u001b[0;31m## 7. How many rows and columns do you have in each DataFrame? Is that what you expected?\u001b[0m\u001b[0;34m\u001b[0m\u001b[0;34m\u001b[0m\u001b[0;34m\u001b[0m\u001b[0m\n\u001b[0;32m----> 2\u001b[0;31m \u001b[0memployees\u001b[0m\u001b[0;34m.\u001b[0m\u001b[0mshape\u001b[0m\u001b[0;34m\u001b[0m\u001b[0;34m\u001b[0m\u001b[0m\n\u001b[0m",
      "\u001b[0;31mNameError\u001b[0m: name 'employees' is not defined"
     ]
    }
   ],
   "source": [
    "## 7. How many rows and columns do you have in each DataFrame? Is that what you expected?\n",
    "employees.shape"
   ]
  },
  {
   "cell_type": "code",
   "execution_count": 8,
   "id": "6df9a5de",
   "metadata": {},
   "outputs": [],
   "source": [
    "############### EXERCISE SET2"
   ]
  },
  {
   "cell_type": "code",
   "execution_count": null,
   "id": "f7260ce1",
   "metadata": {},
   "outputs": [],
   "source": [
    "## 1. Copy the users and roles DataFrames from the examples above.\n",
    "roles = pd.DataFrame({\n",
    "    'id': [1, 2, 3, 4],\n",
    "    'name': ['admin', 'author', 'reviewer', 'commenter']\n",
    "})\n",
    "roles"
   ]
  },
  {
   "cell_type": "code",
   "execution_count": null,
   "id": "55b3db15",
   "metadata": {},
   "outputs": [],
   "source": [
    "users = pd.DataFrame({\n",
    "    'id': [1, 2, 3, 4, 5, 6],\n",
    "    'name': ['bob', 'joe', 'sally', 'adam', 'jane', 'mike'],\n",
    "    'role_id': [1, 2, 3, 3, np.nan, np.nan]\n",
    "})\n",
    "users"
   ]
  },
  {
   "cell_type": "code",
   "execution_count": null,
   "id": "ac181ca8",
   "metadata": {},
   "outputs": [],
   "source": [
    "## 2. What is the result of using a right join on the DataFrames?\n",
    "# ex. left_df.merge(right_df, how='inner', on=None, left_on=None, right_on=None, \n",
    "# left_index=False, right_index=False, indicator=False)\n",
    "\n",
    "users.merge(roles, how='right', on='id', indicator= True)\n",
    "# This included everying in the roles and what roles and users df's had in common"
   ]
  },
  {
   "cell_type": "code",
   "execution_count": null,
   "id": "bd7e1746",
   "metadata": {},
   "outputs": [],
   "source": [
    "## 3. What is the result of using an outer join on the DataFrames?\n",
    "\n",
    "users.merge(roles, how='outer', left_on='role_id', right_on='id', indicator= True)\n",
    "# This included data that was in either df and that in both so all info included"
   ]
  },
  {
   "cell_type": "code",
   "execution_count": null,
   "id": "57fb6056",
   "metadata": {},
   "outputs": [],
   "source": [
    "## 4. What happens if you drop the foreign keys from the DataFrames and try to merge them?\n",
    "# drop the column id in each df that is a foreign key\n",
    "# ex. data = data.drop(columns=\"area\")\n",
    "mod_users = users.drop(columns='role_id')\n",
    "mod_roles = roles.drop(columns='id')\n",
    "# merge the modified df's\n",
    "mod_users.merge(mod_roles, how='outer', left_on='role_id', right_on='id', indicator= True)\n",
    "# when i merge in python for the on how do i list role_id and id\n",
    "# gives me an error because I dropped the key columns that united the df to be able to merge"
   ]
  },
  {
   "cell_type": "code",
   "execution_count": null,
   "id": "0b0791ae",
   "metadata": {},
   "outputs": [],
   "source": [
    "## 5. Load the mpg dataset from PyDataset.\n",
    "from pydataset import data\n",
    "mpg = data('mpg')"
   ]
  },
  {
   "cell_type": "code",
   "execution_count": null,
   "id": "fe1120d5",
   "metadata": {},
   "outputs": [],
   "source": [
    "## 6. Output and read the documentation for the mpg dataset.\n",
    "mpg.head()"
   ]
  },
  {
   "cell_type": "code",
   "execution_count": null,
   "id": "aa73615a",
   "metadata": {},
   "outputs": [],
   "source": [
    "## . How many rows and columns are in the dataset?\n",
    "mpg.shape"
   ]
  },
  {
   "cell_type": "code",
   "execution_count": null,
   "id": "89a53b5c",
   "metadata": {},
   "outputs": [],
   "source": [
    "## 8.  Check out your column names and perform any cleanup you may want on them.\n",
    "mpg"
   ]
  },
  {
   "cell_type": "code",
   "execution_count": null,
   "id": "77bac1f0",
   "metadata": {},
   "outputs": [],
   "source": [
    "mpg.columns\n",
    "data('mpg', show_doc=True)"
   ]
  },
  {
   "cell_type": "code",
   "execution_count": null,
   "id": "8553b8d8",
   "metadata": {},
   "outputs": [],
   "source": [
    "##df2_tidy = df2_melted.rename(columns = {'variable': 'Year', 'value': 'Income'}, inplace = False)\n",
    "mpg_explained = mpg.rename(columns = {'displ': 'displacement', 'fl': 'fuel'})\n",
    "print(mpg_explained)"
   ]
  },
  {
   "cell_type": "code",
   "execution_count": null,
   "id": "dd26bb18",
   "metadata": {},
   "outputs": [],
   "source": [
    "## 9. Display the summary statistics for the dataset.\n",
    "mpg.describe()\n",
    "\n"
   ]
  },
  {
   "cell_type": "code",
   "execution_count": null,
   "id": "ee18cb6c",
   "metadata": {},
   "outputs": [],
   "source": [
    "## 10. How many different manufacturers are there?\n",
    "\n",
    "num_of_man = mpg.groupby('manufacturer').count()\n",
    "print(num_of_man)\n",
    "mpg.manufacturer.unique().size"
   ]
  },
  {
   "cell_type": "code",
   "execution_count": null,
   "id": "0e9e9e25",
   "metadata": {},
   "outputs": [],
   "source": [
    "## 11. How many different models are there?\n",
    "\n",
    "num_of_mods = mpg.groupby('model').count()\n",
    "print(num_of_mods)\n",
    "mpg.model.unique().size"
   ]
  },
  {
   "cell_type": "code",
   "execution_count": null,
   "id": "432eb680",
   "metadata": {},
   "outputs": [],
   "source": [
    "## 12. Create a column named mileage_difference like you did in the DataFrames exercises; this column should \n",
    "## contain the difference between highway and city mileage for each car.\n",
    "# use .abs"
   ]
  },
  {
   "cell_type": "code",
   "execution_count": null,
   "id": "f391ae71",
   "metadata": {},
   "outputs": [],
   "source": [
    "## 13. Create a column named average_mileage like you did in the DataFrames exercises; this is the mean of the \n",
    "## city and highway mileage.\n",
    "#create a df with two columns and find average\n",
    "\n"
   ]
  },
  {
   "cell_type": "code",
   "execution_count": null,
   "id": "9b4ba452",
   "metadata": {},
   "outputs": [],
   "source": [
    "## 14. Create a new column on the mpg dataset named is_automatic that holds boolean values denoting whether the \n",
    "## car has an automatic transmission.\n",
    "\n",
    "# df.str.contains\"auto\"\n",
    "# or .startswith"
   ]
  },
  {
   "cell_type": "code",
   "execution_count": null,
   "id": "54b7574d",
   "metadata": {},
   "outputs": [],
   "source": [
    "## 15. Using the mpg dataset, find out which which manufacturer has the best miles per gallon on average?\n",
    "# for each manufacturer calculate the mpg\n",
    "# group by manufacturer\n",
    "mpg.groupby('manufacturer').average_mileage.mean()\n",
    "# recreate average_mileage column\n",
    "--------DO THIS PART\n",
    "# get the key associated with the max value\n",
    "manufacturer_avg_mpg.idxmax()\n",
    "#answer is honda 28.5\n"
   ]
  },
  {
   "cell_type": "code",
   "execution_count": null,
   "id": "4b3549f9",
   "metadata": {},
   "outputs": [],
   "source": [
    "## 16. Do automatic or manual cars have better miles per gallon?\n",
    "# group by trans then use average_mileage.mean()\n",
    "# manuals = df[~df.is_automatic]  means give me everything that is not is_automatic == True\n",
    "# or df[df.is_automatic == False]\n"
   ]
  },
  {
   "cell_type": "code",
   "execution_count": null,
   "id": "b5d387cd",
   "metadata": {},
   "outputs": [],
   "source": [
    "#### EXERCISE SET 3"
   ]
  },
  {
   "cell_type": "code",
   "execution_count": null,
   "id": "75ef1431",
   "metadata": {},
   "outputs": [],
   "source": [
    "## 1. Use your get_db_url function to help you explore the data from the chipotle database.\n",
    "def get_db_url(user, password, host, db_name):\n",
    "    return f'mysql+pymysql://{user}:{password}@{host}/{db_name}'\n",
    "url = get_db_url = get_db_url(user, password, host, 'chipotle')\n",
    "chipotle = pd.read_sql(' SELECT * FROM orders', url)"
   ]
  },
  {
   "cell_type": "code",
   "execution_count": null,
   "id": "cbf6e45d",
   "metadata": {},
   "outputs": [],
   "source": [
    "## 2. What is the total price for each order?\n",
    "# group by order_id and multiply quantity by item_price\n",
    "# df.groupby('classroom').math.max()\n",
    "\n",
    "# change item_price back to float to perform math\n",
    "# ex. df['DataFrame Column'] = df['DataFrame Column'].astype(float)\n",
    "chipotle['item_price']= chipotle['item_price'].astype(float)\n",
    "chipotle\n"
   ]
  },
  {
   "cell_type": "code",
   "execution_count": null,
   "id": "b016808e",
   "metadata": {},
   "outputs": [],
   "source": []
  }
 ],
 "metadata": {
  "kernelspec": {
   "display_name": "Python 3",
   "language": "python",
   "name": "python3"
  },
  "language_info": {
   "codemirror_mode": {
    "name": "ipython",
    "version": 3
   },
   "file_extension": ".py",
   "mimetype": "text/x-python",
   "name": "python",
   "nbconvert_exporter": "python",
   "pygments_lexer": "ipython3",
   "version": "3.8.8"
  }
 },
 "nbformat": 4,
 "nbformat_minor": 5
}
