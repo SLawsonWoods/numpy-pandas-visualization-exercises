{
 "cells": [
  {
   "cell_type": "code",
   "execution_count": 18,
   "id": "3ce961a3",
   "metadata": {},
   "outputs": [
    {
     "name": "stdout",
     "output_type": "stream",
     "text": [
      "0                 kiwi\n",
      "1                mango\n",
      "2           strawberry\n",
      "3            pineapple\n",
      "4           gala apple\n",
      "5     honeycrisp apple\n",
      "6               tomato\n",
      "7           watermelon\n",
      "8             honeydew\n",
      "9                 kiwi\n",
      "10                kiwi\n",
      "11                kiwi\n",
      "12               mango\n",
      "13           blueberry\n",
      "14          blackberry\n",
      "15          gooseberry\n",
      "16              papaya\n",
      "dtype: object\n"
     ]
    }
   ],
   "source": [
    "import numpy as np\n",
    "import pandas as pd\n",
    "\n",
    "import matplotlib.pyplot as plt\n",
    "\n",
    "fruits = [\"kiwi\", \"mango\", \"strawberry\", \"pineapple\", \"gala apple\", \"honeycrisp apple\", \"tomato\", \"watermelon\", \"honeydew\", \"kiwi\", \"kiwi\", \"kiwi\", \"mango\", \"blueberry\", \"blackberry\", \"gooseberry\", \"papaya\"]\n",
    "\n",
    "fruit_series = pd.Series(fruits)\n",
    "print(fruit_series)"
   ]
  },
  {
   "cell_type": "code",
   "execution_count": 19,
   "id": "5ff9edc8",
   "metadata": {},
   "outputs": [
    {
     "name": "stdout",
     "output_type": "stream",
     "text": [
      "count       17\n",
      "unique      13\n",
      "top       kiwi\n",
      "freq         4\n",
      "dtype: object\n"
     ]
    }
   ],
   "source": [
    "## 1. Determine the number of elements in fruits.\n",
    "fruit_series.describe()\n",
    "print(fruit_series.describe())"
   ]
  },
  {
   "cell_type": "code",
   "execution_count": 26,
   "id": "686d5252",
   "metadata": {},
   "outputs": [
    {
     "name": "stdout",
     "output_type": "stream",
     "text": [
      "[0, 1, 2, 3, 4, 5, 6, 7, 8, 9, 10, 11, 12, 13, 14, 15, 16]\n"
     ]
    }
   ],
   "source": [
    "## 2. Output only the index from fruits.\n",
    "fruit_series.index\n",
    "print(list(fruit_series.index))\n"
   ]
  },
  {
   "cell_type": "code",
   "execution_count": 27,
   "id": "f46453d9",
   "metadata": {},
   "outputs": [
    {
     "name": "stdout",
     "output_type": "stream",
     "text": [
      "['kiwi' 'mango' 'strawberry' 'pineapple' 'gala apple' 'honeycrisp apple'\n",
      " 'tomato' 'watermelon' 'honeydew' 'kiwi' 'kiwi' 'kiwi' 'mango' 'blueberry'\n",
      " 'blackberry' 'gooseberry' 'papaya']\n"
     ]
    }
   ],
   "source": [
    "## 3. Output only the values from fruits.\n",
    "print(fruit_series.values)"
   ]
  },
  {
   "cell_type": "code",
   "execution_count": null,
   "id": "b5cfadf3",
   "metadata": {},
   "outputs": [],
   "source": [
    "## 4. Confirm the data type of the values in fruits."
   ]
  },
  {
   "cell_type": "code",
   "execution_count": 28,
   "id": "e56fadca",
   "metadata": {},
   "outputs": [
    {
     "name": "stdout",
     "output_type": "stream",
     "text": [
      "object\n"
     ]
    }
   ],
   "source": [
    "pd.unique(fruits)\n",
    "values = fruit_series.values\n",
    "print(values.dtype)"
   ]
  },
  {
   "cell_type": "code",
   "execution_count": 33,
   "id": "092aa1b4",
   "metadata": {},
   "outputs": [
    {
     "name": "stdout",
     "output_type": "stream",
     "text": [
      "0          kiwi\n",
      "1         mango\n",
      "2    strawberry\n",
      "3     pineapple\n",
      "4    gala apple\n",
      "dtype: object\n",
      "14    blackberry\n",
      "15    gooseberry\n",
      "16        papaya\n",
      "dtype: object\n",
      "15    gooseberry\n",
      "0           kiwi\n",
      "dtype: object\n"
     ]
    }
   ],
   "source": [
    "## 5. Output only the first five values from fruits. Output the last three values. Output two random values \n",
    "## from fruits.\n",
    "fruit_series.head(5)\n",
    "print(fruit_series.head(5))\n",
    "\n",
    "print(fruit_series.tail(3))\n",
    "\n",
    "print(fruit_series.sample(2))\n"
   ]
  },
  {
   "cell_type": "code",
   "execution_count": 34,
   "id": "0e45ab15",
   "metadata": {},
   "outputs": [
    {
     "name": "stdout",
     "output_type": "stream",
     "text": [
      "count       17\n",
      "unique      13\n",
      "top       kiwi\n",
      "freq         4\n",
      "dtype: object\n"
     ]
    }
   ],
   "source": [
    "## 6. Run the .describe() on fruits to see what information it returns when called on a Series with string values.\n",
    "\n",
    "fruit_series.describe()\n",
    "print(fruit_series.describe())"
   ]
  },
  {
   "cell_type": "code",
   "execution_count": 36,
   "id": "dbdf250a",
   "metadata": {},
   "outputs": [
    {
     "name": "stdout",
     "output_type": "stream",
     "text": [
      "['kiwi' 'mango' 'strawberry' 'pineapple' 'gala apple' 'honeycrisp apple'\n",
      " 'tomato' 'watermelon' 'honeydew' 'blueberry' 'blackberry' 'gooseberry'\n",
      " 'papaya']\n"
     ]
    }
   ],
   "source": [
    "## 7. Run the code necessary to produce only the unique string values from fruits.\n",
    "fruit_series.unique\n",
    "print(fruit_series.unique())"
   ]
  },
  {
   "cell_type": "code",
   "execution_count": 40,
   "id": "f545d294",
   "metadata": {},
   "outputs": [
    {
     "name": "stdout",
     "output_type": "stream",
     "text": [
      "kiwi                4\n",
      "mango               2\n",
      "honeydew            1\n",
      "gala apple          1\n",
      "papaya              1\n",
      "honeycrisp apple    1\n",
      "blackberry          1\n",
      "tomato              1\n",
      "gooseberry          1\n",
      "strawberry          1\n",
      "blueberry           1\n",
      "watermelon          1\n",
      "pineapple           1\n",
      "dtype: int64\n"
     ]
    }
   ],
   "source": [
    "## 8. Determine how many times each unique string value occurs in fruits.\n",
    "unique_values = fruit_series.value_counts()\n",
    "print(unique_values)"
   ]
  },
  {
   "cell_type": "code",
   "execution_count": 42,
   "id": "2e73de14",
   "metadata": {
    "scrolled": true
   },
   "outputs": [
    {
     "name": "stdout",
     "output_type": "stream",
     "text": [
      "count       17\n",
      "unique      13\n",
      "top       kiwi\n",
      "freq         4\n",
      "dtype: object\n"
     ]
    }
   ],
   "source": [
    "## 9. Determine the string value that occurs most frequently in fruits.\n",
    "print(fruit_series.describe())\n"
   ]
  },
  {
   "cell_type": "code",
   "execution_count": 49,
   "id": "ed0a4607",
   "metadata": {},
   "outputs": [
    {
     "name": "stdout",
     "output_type": "stream",
     "text": [
      "honeydew            1\n",
      "gala apple          1\n",
      "papaya              1\n",
      "honeycrisp apple    1\n",
      "blackberry          1\n",
      "tomato              1\n",
      "gooseberry          1\n",
      "strawberry          1\n",
      "blueberry           1\n",
      "watermelon          1\n",
      "pineapple           1\n",
      "mango               2\n",
      "kiwi                4\n",
      "dtype: int64\n"
     ]
    }
   ],
   "source": [
    "## 10. Determine the string value that occurs least frequently in fruits.\n",
    "\n",
    "print(fruit_series.value_counts().sort_values())"
   ]
  },
  {
   "cell_type": "code",
   "execution_count": null,
   "id": "1defa8a3",
   "metadata": {},
   "outputs": [],
   "source": []
  },
  {
   "cell_type": "code",
   "execution_count": null,
   "id": "3169db64",
   "metadata": {},
   "outputs": [],
   "source": [
    "########################################EXERCISE SET 2\n"
   ]
  },
  {
   "cell_type": "code",
   "execution_count": 55,
   "id": "79315758",
   "metadata": {},
   "outputs": [
    {
     "data": {
      "text/plain": [
       "0                 Kiwi\n",
       "1                Mango\n",
       "2           Strawberry\n",
       "3            Pineapple\n",
       "4           Gala apple\n",
       "5     Honeycrisp apple\n",
       "6               Tomato\n",
       "7           Watermelon\n",
       "8             Honeydew\n",
       "9                 Kiwi\n",
       "10                Kiwi\n",
       "11                Kiwi\n",
       "12               Mango\n",
       "13           Blueberry\n",
       "14          Blackberry\n",
       "15          Gooseberry\n",
       "16              Papaya\n",
       "dtype: object"
      ]
     },
     "execution_count": 55,
     "metadata": {},
     "output_type": "execute_result"
    }
   ],
   "source": [
    "## 1. Capitalize all the string values in fruits.\n",
    "fruit_series.str.capitalize()"
   ]
  },
  {
   "cell_type": "code",
   "execution_count": 57,
   "id": "dfcda81f",
   "metadata": {},
   "outputs": [
    {
     "data": {
      "text/plain": [
       "0     0\n",
       "1     1\n",
       "2     1\n",
       "3     1\n",
       "4     3\n",
       "5     1\n",
       "6     1\n",
       "7     1\n",
       "8     0\n",
       "9     0\n",
       "10    0\n",
       "11    0\n",
       "12    1\n",
       "13    0\n",
       "14    1\n",
       "15    0\n",
       "16    3\n",
       "dtype: int64"
      ]
     },
     "execution_count": 57,
     "metadata": {},
     "output_type": "execute_result"
    }
   ],
   "source": [
    "## 2. Count the letter \"a\" in all the string values (use string vectorization).\n",
    "\n",
    "fruit_series.str.count('a')"
   ]
  },
  {
   "cell_type": "code",
   "execution_count": 89,
   "id": "5878f70a",
   "metadata": {},
   "outputs": [
    {
     "data": {
      "text/plain": [
       "2"
      ]
     },
     "execution_count": 89,
     "metadata": {},
     "output_type": "execute_result"
    }
   ],
   "source": [
    "## 3. Output the number of vowels in each and every string value.\n",
    "## count vowels\n",
    "vowels = ['a','e','i','o','u']\n",
    "def count_vowels(fruit):\n",
    "    return len([let for let in fruit.lower() if let in vowels])\n",
    "\n",
    "count_vowels('fruit')"
   ]
  },
  {
   "cell_type": "code",
   "execution_count": 90,
   "id": "a35efac4",
   "metadata": {},
   "outputs": [
    {
     "data": {
      "text/plain": [
       "2"
      ]
     },
     "execution_count": 90,
     "metadata": {},
     "output_type": "execute_result"
    }
   ],
   "source": [
    "## 3. Alternative solution\n",
    "def count_vowels(string):\n",
    "    vowels = ['a' 'e', 'i', 'o', 'u']\n",
    "    count = 0\n",
    "    for let in string:\n",
    "        if let in vowels:\n",
    "            count +=1\n",
    "    return count\n",
    "\n",
    "\n",
    "count_vowels('fruit')\n"
   ]
  },
  {
   "cell_type": "code",
   "execution_count": 199,
   "id": "5c4e7ce7",
   "metadata": {},
   "outputs": [
    {
     "data": {
      "text/plain": [
       "'honeycrisp apple'"
      ]
     },
     "execution_count": 199,
     "metadata": {},
     "output_type": "execute_result"
    }
   ],
   "source": [
    "## 4. Write the code to get the longest string value from fruits.\n",
    "\n",
    "max(fruit_series, key=len)"
   ]
  },
  {
   "cell_type": "code",
   "execution_count": null,
   "id": "4dea1e5f",
   "metadata": {},
   "outputs": [],
   "source": [
    "## 5. Write the code to get the string values with 5 or more letters in the name.\n",
    "# count the values of each string\n",
    "# return the strings with more than 5 letters\n",
    "\n"
   ]
  },
  {
   "cell_type": "code",
   "execution_count": null,
   "id": "3b24e8d1",
   "metadata": {},
   "outputs": [],
   "source": [
    "################################################### EXERCISE SET 3 A\n",
    "numbers_series = pd.Series([100, 43, 26, 17, 17])\n"
   ]
  },
  {
   "cell_type": "code",
   "execution_count": null,
   "id": "04bcddaf",
   "metadata": {},
   "outputs": [],
   "source": []
  },
  {
   "cell_type": "code",
   "execution_count": 133,
   "id": "60d47dcc",
   "metadata": {},
   "outputs": [
    {
     "data": {
      "text/plain": [
       "pandas.core.series.Series"
      ]
     },
     "execution_count": 133,
     "metadata": {},
     "output_type": "execute_result"
    }
   ],
   "source": [
    "let =  'hnvidduckkqxwymbimkccexbkmqygkxoyndmcxnwqarhyffsjpsrabtjzsypmzadfavyrnndndvswreauxovncxtwzpwejilzjrmmbbgbyxvjtewqthafnbkqplarokkyydtubbmnexoypulzwfhqvckdpqtpoppzqrmcvhhpwgjwupgzhiofohawytlsiyecuproguy'\n",
    "letters = pd.Series([let])\n",
    "type(letters)"
   ]
  },
  {
   "cell_type": "code",
   "execution_count": 96,
   "id": "4831b55e",
   "metadata": {},
   "outputs": [
    {
     "name": "stdout",
     "output_type": "stream",
     "text": [
      "('y', 13)\n"
     ]
    }
   ],
   "source": [
    "## 1. Which letter occurs the most frequently in the letters Series?\n",
    "import collections\n",
    "\n",
    "print(collections.Counter(let).most_common(1)[0])"
   ]
  },
  {
   "cell_type": "code",
   "execution_count": 99,
   "id": "b26d8ce5",
   "metadata": {},
   "outputs": [
    {
     "data": {
      "text/plain": [
       "'a'"
      ]
     },
     "execution_count": 99,
     "metadata": {},
     "output_type": "execute_result"
    }
   ],
   "source": [
    "## 2. Which letter occurs the Least frequently?\n",
    "\n",
    "min(collections.Counter(let))"
   ]
  },
  {
   "cell_type": "code",
   "execution_count": 105,
   "id": "3942db6a",
   "metadata": {},
   "outputs": [
    {
     "data": {
      "text/plain": [
       "0    5\n",
       "dtype: int64"
      ]
     },
     "execution_count": 105,
     "metadata": {},
     "output_type": "execute_result"
    }
   ],
   "source": [
    "## 3. How many vowels are in the Series?\n",
    "#str.count(s)\n",
    "letters.str.count('a')\n",
    "letters.str.count('e')\n",
    "letters.str.count('i')\n",
    "letters.str.count('o')\n",
    "letters.str.count('u')"
   ]
  },
  {
   "cell_type": "code",
   "execution_count": 106,
   "id": "e7aa7bf0",
   "metadata": {},
   "outputs": [
    {
     "name": "stdout",
     "output_type": "stream",
     "text": [
      "Please Enter Your Own String : hnvidduckkqxwymbimkccexbkmqygkxoyndmcxnwqarhyffsjpsrabtjzsypmzadfavyrnndndvswreauxovncxtwzpwejilzjrmmbbgbyxvjtewqthafnbkqplarokkyydtubbmnexoypulzwfhqvckdpqtpoppzqrmcvhhpwgjwupgzhiofohawytlsiyecuproguy\n",
      "Total Number of Vowels in this String =  34\n",
      "Total Number of Consonants in this String =  166\n"
     ]
    }
   ],
   "source": [
    "## 4.  How many consonants are in the Series?\n",
    "\n",
    "str1 = input(\"Please Enter Your Own String : \")\n",
    "vowels = 0\n",
    "consonants = 0\n",
    "\n",
    "for i in str1:\n",
    "    if(i == 'a' or i == 'e' or i == 'i' or i == 'o' or i == 'u'\n",
    "       or i == 'A' or i == 'E' or i == 'I' or i == 'O' or i == 'U'):\n",
    "        vowels = vowels + 1\n",
    "    else:\n",
    "        consonants = consonants + 1\n",
    " \n",
    "print(\"Total Number of Vowels in this String = \", vowels)\n",
    "print(\"Total Number of Consonants in this String = \", consonants)"
   ]
  },
  {
   "cell_type": "code",
   "execution_count": 116,
   "id": "deb282e7",
   "metadata": {},
   "outputs": [
    {
     "data": {
      "text/plain": [
       "0    HNVIDDUCKKQXWYMBIMKCCEXBKMQYGKXOYNDMCXNWQARHYF...\n",
       "dtype: object"
      ]
     },
     "execution_count": 116,
     "metadata": {},
     "output_type": "execute_result"
    }
   ],
   "source": [
    "## 5. Create a Series that has all of the same letters but uppercased.\n",
    "\n",
    "letters.str.upper()"
   ]
  },
  {
   "cell_type": "code",
   "execution_count": 174,
   "id": "da381e30",
   "metadata": {},
   "outputs": [
    {
     "name": "stdout",
     "output_type": "stream",
     "text": [
      "['a', 'a', 'a', 'a', 'a', 'a', 'a', 'a', 'b', 'b', 'b', 'b', 'b', 'b', 'b', 'b', 'b', 'c', 'c', 'c', 'c', 'c', 'c', 'c', 'c', 'd', 'd', 'd', 'd', 'd', 'd', 'd', 'd', 'e', 'e', 'e', 'e', 'e', 'e', 'f', 'f', 'f', 'f', 'f', 'f', 'g', 'g', 'g', 'g', 'g', 'h', 'h', 'h', 'h', 'h', 'h', 'h', 'h', 'i', 'i', 'i', 'i', 'i', 'j', 'j', 'j', 'j', 'j', 'j', 'k', 'k', 'k', 'k', 'k', 'k', 'k', 'k', 'k', 'l', 'l', 'l', 'l', 'm', 'm', 'm', 'm', 'm', 'm', 'm', 'm', 'm', 'n', 'n', 'n', 'n', 'n', 'n', 'n', 'n', 'n', 'o', 'o', 'o', 'o', 'o', 'o', 'o', 'o', 'p', 'p', 'p', 'p', 'p', 'p', 'p', 'p', 'p', 'p', 'p', 'p', 'q', 'q', 'q', 'q', 'q', 'q', 'q', 'q', 'r', 'r', 'r', 'r', 'r', 'r', 'r', 'r', 's', 's', 's', 's', 's', 't', 't', 't', 't', 't', 't', 't', 'u', 'u', 'u', 'u', 'u', 'u', 'u', 'v', 'v', 'v', 'v', 'v', 'v', 'v', 'w', 'w', 'w', 'w', 'w', 'w', 'w', 'w', 'w', 'w', 'x', 'x', 'x', 'x', 'x', 'x', 'x', 'x', 'y', 'y', 'y', 'y', 'y', 'y', 'y', 'y', 'y', 'y', 'y', 'y', 'y', 'z', 'z', 'z', 'z', 'z', 'z', 'z']\n",
      "{'a': 8, 'b': 9, 'c': 8, 'd': 8, 'e': 6, 'f': 6, 'g': 5, 'h': 8, 'i': 5, 'j': 6, 'k': 9, 'l': 4, 'm': 9, 'n': 9, 'o': 8, 'p': 12, 'q': 8, 'r': 8, 's': 5, 't': 7, 'u': 7, 'v': 7, 'w': 10, 'x': 8, 'y': 13, 'z': 7}\n"
     ]
    }
   ],
   "source": [
    "## 6. Create a bar plot of the frequencies of the 6 most commonly occuring letters.\n",
    "# split up the string into characters\n",
    "def split(word):\n",
    "    return [char for char in word]\n",
    "\n",
    "letters = word\n",
    "word = 'hnvidduckkqxwymbimkccexbkmqygkxoyndmcxnwqarhyffsjpsrabtjzsypmzadfavyrnndndvswreauxovncxtwzpwejilzjrmmbbgbyxvjtewqthafnbkqplarokkyydtubbmnexoypulzwfhqvckdpqtpoppzqrmcvhhpwgjwupgzhiofohawytlsiyecuproguy'\n",
    "word_split =split(word)\n",
    "# Sort in alpha order letters\n",
    "word_split_sorted = sorted(word_split, key=str.lower)\n",
    "print(word_split_sorted)\n",
    "#count letters and display\n",
    "string = word_split_sorted\n",
    "frequencies = collections.Counter(word_split_sorted)\n",
    "repeated = {}\n",
    "for key, value in frequencies.items():\n",
    "    if value > 1:\n",
    "        repeated[key] = value\n",
    "print(repeated)\n"
   ]
  },
  {
   "cell_type": "code",
   "execution_count": 182,
   "id": "3eeef01e",
   "metadata": {},
   "outputs": [
    {
     "name": "stdout",
     "output_type": "stream",
     "text": [
      "{'l': 4, 'g': 5, 'i': 5, 's': 5, 'e': 6, 'f': 6, 'j': 6, 't': 7, 'u': 7, 'v': 7, 'z': 7, 'a': 8, 'c': 8, 'd': 8, 'h': 8, 'o': 8, 'q': 8, 'r': 8, 'x': 8, 'b': 9, 'k': 9, 'm': 9, 'n': 9, 'w': 10, 'p': 12, 'y': 13}\n"
     ]
    },
    {
     "data": {
      "image/png": "[encoded data removed]",
      "text/plain": [
       "<Figure size 432x288 with 1 Axes>"
      ]
     },
     "metadata": {
      "needs_background": "light"
     },
     "output_type": "display_data"
    }
   ],
   "source": [
    "## 7. Create a bar plot of the frequencies of the 6 most commonly occuring letters.\n",
    "##letters.nlargest(n=6)\n",
    "\n",
    "\n",
    "sort_dict= dict(sorted(repeated.items(), key=lambda item: item[1])) \n",
    "print(sort_dict)\n",
    "# make bar. chart\n",
    "#Country = ['USA','Canada','Germany','UK','France']\n",
    "#GDP_Per_Capita = [45000,42000,52000,49000,47000]\n",
    "Character = ['y', 'p', 'w', 'n', 'b', 'k']\n",
    "Occurences = [13, 12, 10, 9, 9, 9]\n",
    "plt.bar(Character,Occurences)\n",
    "plt.title('Occurences of Top 6 Letters')\n",
    "plt.xlabel('Characters')\n",
    "plt.ylabel('Occurences')\n",
    "plt.show()\n"
   ]
  },
  {
   "cell_type": "code",
   "execution_count": 175,
   "id": "0f2e58c4",
   "metadata": {},
   "outputs": [
    {
     "name": "stdout",
     "output_type": "stream",
     "text": [
      "{'a': 8, 'b': 9, 'c': 8, 'd': 8, 'e': 6, 'f': 6, 'g': 5, 'h': 8, 'i': 5, 'j': 6, 'k': 9, 'l': 4, 'm': 9, 'n': 9, 'o': 8, 'p': 12, 'q': 8, 'r': 8, 's': 5, 't': 7, 'u': 7, 'v': 7, 'w': 10, 'x': 8, 'y': 13, 'z': 7}\n"
     ]
    }
   ],
   "source": [
    "print(repeated)"
   ]
  },
  {
   "cell_type": "code",
   "execution_count": null,
   "id": "0538d704",
   "metadata": {},
   "outputs": [],
   "source": [
    "################################## EXERCISE 3 B"
   ]
  },
  {
   "cell_type": "code",
   "execution_count": 187,
   "id": "be0403cf",
   "metadata": {},
   "outputs": [],
   "source": [
    "numbers = ['$796,459.41', '$278.60', '$482,571.67', '$4,503,915.98', '$2,121,418.3', '$1,260,813.3', '$87,231.01', '$1,509,175.45', '$4,138,548.00', '$2,848,913.80', '$594,715.39', '$4,789,988.17', '$4,513,644.5', '$3,191,059.97', '$1,758,712.24', '$4,338,283.54', '$4,738,303.38', '$2,791,759.67', '$769,681.94', '$452,650.23']\n",
    "fruit_series = pd.Series(fruits)\n",
    "number_series = pd.Series(numbers)"
   ]
  },
  {
   "cell_type": "code",
   "execution_count": 188,
   "id": "4a440f4c",
   "metadata": {},
   "outputs": [
    {
     "data": {
      "text/plain": [
       "count             20\n",
       "unique            20\n",
       "top       $87,231.01\n",
       "freq               1\n",
       "dtype: object"
      ]
     },
     "execution_count": 188,
     "metadata": {},
     "output_type": "execute_result"
    }
   ],
   "source": [
    "## 1. What is the data type of the numbers Series?\n",
    "number_series.describe()"
   ]
  },
  {
   "cell_type": "code",
   "execution_count": 189,
   "id": "a9f65de2",
   "metadata": {},
   "outputs": [
    {
     "data": {
      "text/plain": [
       "<bound method IndexOpsMixin.value_counts of 0       $796,459.41\n",
       "1           $278.60\n",
       "2       $482,571.67\n",
       "3     $4,503,915.98\n",
       "4      $2,121,418.3\n",
       "5      $1,260,813.3\n",
       "6        $87,231.01\n",
       "7     $1,509,175.45\n",
       "8     $4,138,548.00\n",
       "9     $2,848,913.80\n",
       "10      $594,715.39\n",
       "11    $4,789,988.17\n",
       "12     $4,513,644.5\n",
       "13    $3,191,059.97\n",
       "14    $1,758,712.24\n",
       "15    $4,338,283.54\n",
       "16    $4,738,303.38\n",
       "17    $2,791,759.67\n",
       "18      $769,681.94\n",
       "19      $452,650.23\n",
       "dtype: object>"
      ]
     },
     "execution_count": 189,
     "metadata": {},
     "output_type": "execute_result"
    }
   ],
   "source": [
    "## 2. How many elements are in the number Series?\n",
    "number_series.value_counts"
   ]
  },
  {
   "cell_type": "code",
   "execution_count": 195,
   "id": "0333b914",
   "metadata": {},
   "outputs": [
    {
     "name": "stdout",
     "output_type": "stream",
     "text": [
      "0       $796,459.41\n",
      "1           $278.60\n",
      "2       $482,571.67\n",
      "3     $4,503,915.98\n",
      "4      $2,121,418.3\n",
      "5      $1,260,813.3\n",
      "6        $87,231.01\n",
      "7     $1,509,175.45\n",
      "8     $4,138,548.00\n",
      "9     $2,848,913.80\n",
      "10      $594,715.39\n",
      "11    $4,789,988.17\n",
      "12     $4,513,644.5\n",
      "13    $3,191,059.97\n",
      "14    $1,758,712.24\n",
      "15    $4,338,283.54\n",
      "16    $4,738,303.38\n",
      "17    $2,791,759.67\n",
      "18      $769,681.94\n",
      "19      $452,650.23\n",
      "dtype: object\n"
     ]
    }
   ],
   "source": [
    "########### INCOMPLETE\n",
    "## 3. Perform the necessary manipulations by accessing Series attributes and methods to convert the numbers \n",
    "## Series to a numeric data type.\n",
    "##Convert the series to numeric data type\n",
    "\n",
    "#example : pd.to_numeric(s)\n",
    "##pd.to_numeric(number_series)\n",
    "#That didn't work\n",
    "\n",
    "#Trying the replace method\n",
    "new_number_series= number_series.replace('$', '')\n",
    "newer_number_series = new_number_series.replace(',', '')\n",
    "print(newer_number_series)\n"
   ]
  },
  {
   "cell_type": "code",
   "execution_count": 197,
   "id": "46892a68",
   "metadata": {},
   "outputs": [
    {
     "data": {
      "text/plain": [
       "'$87,231.01'"
      ]
     },
     "execution_count": 197,
     "metadata": {},
     "output_type": "execute_result"
    }
   ],
   "source": [
    "## 4. Run the code to discover the maximum value from the Series.\n",
    "number_series.max()\n"
   ]
  },
  {
   "cell_type": "code",
   "execution_count": null,
   "id": "90dfaccb",
   "metadata": {},
   "outputs": [],
   "source": [
    "## 5. "
   ]
  }
 ],
 "metadata": {
  "kernelspec": {
   "display_name": "Python 3",
   "language": "python",
   "name": "python3"
  },
  "language_info": {
   "codemirror_mode": {
    "name": "ipython",
    "version": 3
   },
   "file_extension": ".py",
   "mimetype": "text/x-python",
   "name": "python",
   "nbconvert_exporter": "python",
   "pygments_lexer": "ipython3",
   "version": "3.8.8"
  }
 },
 "nbformat": 4,
 "nbformat_minor": 5
}
