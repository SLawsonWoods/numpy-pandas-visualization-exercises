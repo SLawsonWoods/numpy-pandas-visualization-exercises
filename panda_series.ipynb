{
 "cells": [
  {
   "cell_type": "code",
   "execution_count": 18,
   "id": "3ce961a3",
   "metadata": {},
   "outputs": [
    {
     "name": "stdout",
     "output_type": "stream",
     "text": [
      "0                 kiwi\n",
      "1                mango\n",
      "2           strawberry\n",
      "3            pineapple\n",
      "4           gala apple\n",
      "5     honeycrisp apple\n",
      "6               tomato\n",
      "7           watermelon\n",
      "8             honeydew\n",
      "9                 kiwi\n",
      "10                kiwi\n",
      "11                kiwi\n",
      "12               mango\n",
      "13           blueberry\n",
      "14          blackberry\n",
      "15          gooseberry\n",
      "16              papaya\n",
      "dtype: object\n"
     ]
    }
   ],
   "source": [
    "import numpy as np\n",
    "import pandas as pd\n",
    "\n",
    "import matplotlib.pyplot as plt\n",
    "\n",
    "fruits = [\"kiwi\", \"mango\", \"strawberry\", \"pineapple\", \"gala apple\", \"honeycrisp apple\", \"tomato\", \"watermelon\", \"honeydew\", \"kiwi\", \"kiwi\", \"kiwi\", \"mango\", \"blueberry\", \"blackberry\", \"gooseberry\", \"papaya\"]\n",
    "\n",
    "fruit_series = pd.Series(fruits)\n",
    "print(fruit_series)"
   ]
  },
  {
   "cell_type": "code",
   "execution_count": 19,
   "id": "5ff9edc8",
   "metadata": {},
   "outputs": [
    {
     "name": "stdout",
     "output_type": "stream",
     "text": [
      "count       17\n",
      "unique      13\n",
      "top       kiwi\n",
      "freq         4\n",
      "dtype: object\n"
     ]
    }
   ],
   "source": [
    "## 1. Determine the number of elements in fruits.\n",
    "fruit_series.describe()\n",
    "print(fruit_series.describe())"
   ]
  },
  {
   "cell_type": "code",
   "execution_count": 26,
   "id": "686d5252",
   "metadata": {},
   "outputs": [
    {
     "name": "stdout",
     "output_type": "stream",
     "text": [
      "[0, 1, 2, 3, 4, 5, 6, 7, 8, 9, 10, 11, 12, 13, 14, 15, 16]\n"
     ]
    }
   ],
   "source": [
    "## 2. Output only the index from fruits.\n",
    "fruit_series.index\n",
    "print(list(fruit_series.index))\n"
   ]
  },
  {
   "cell_type": "code",
   "execution_count": 27,
   "id": "f46453d9",
   "metadata": {},
   "outputs": [
    {
     "name": "stdout",
     "output_type": "stream",
     "text": [
      "['kiwi' 'mango' 'strawberry' 'pineapple' 'gala apple' 'honeycrisp apple'\n",
      " 'tomato' 'watermelon' 'honeydew' 'kiwi' 'kiwi' 'kiwi' 'mango' 'blueberry'\n",
      " 'blackberry' 'gooseberry' 'papaya']\n"
     ]
    }
   ],
   "source": [
    "## 3. Output only the values from fruits.\n",
    "print(fruit_series.values)"
   ]
  },
  {
   "cell_type": "code",
   "execution_count": null,
   "id": "b5cfadf3",
   "metadata": {},
   "outputs": [],
   "source": [
    "## 4. Confirm the data type of the values in fruits."
   ]
  },
  {
   "cell_type": "code",
   "execution_count": 28,
   "id": "e56fadca",
   "metadata": {},
   "outputs": [
    {
     "name": "stdout",
     "output_type": "stream",
     "text": [
      "object\n"
     ]
    }
   ],
   "source": [
    "pd.unique(fruits)\n",
    "values = fruit_series.values\n",
    "print(values.dtype)"
   ]
  },
  {
   "cell_type": "code",
   "execution_count": 33,
   "id": "092aa1b4",
   "metadata": {},
   "outputs": [
    {
     "name": "stdout",
     "output_type": "stream",
     "text": [
      "0          kiwi\n",
      "1         mango\n",
      "2    strawberry\n",
      "3     pineapple\n",
      "4    gala apple\n",
      "dtype: object\n",
      "14    blackberry\n",
      "15    gooseberry\n",
      "16        papaya\n",
      "dtype: object\n",
      "15    gooseberry\n",
      "0           kiwi\n",
      "dtype: object\n"
     ]
    }
   ],
   "source": [
    "## 5. Output only the first five values from fruits. Output the last three values. Output two random values \n",
    "## from fruits.\n",
    "fruit_series.head(5)\n",
    "print(fruit_series.head(5))\n",
    "\n",
    "print(fruit_series.tail(3))\n",
    "\n",
    "print(fruit_series.sample(2))\n"
   ]
  },
  {
   "cell_type": "code",
   "execution_count": 34,
   "id": "0e45ab15",
   "metadata": {},
   "outputs": [
    {
     "name": "stdout",
     "output_type": "stream",
     "text": [
      "count       17\n",
      "unique      13\n",
      "top       kiwi\n",
      "freq         4\n",
      "dtype: object\n"
     ]
    }
   ],
   "source": [
    "## 6. Run the .describe() on fruits to see what information it returns when called on a Series with string values.\n",
    "\n",
    "fruit_series.describe()\n",
    "print(fruit_series.describe())"
   ]
  },
  {
   "cell_type": "code",
   "execution_count": 36,
   "id": "dbdf250a",
   "metadata": {},
   "outputs": [
    {
     "name": "stdout",
     "output_type": "stream",
     "text": [
      "['kiwi' 'mango' 'strawberry' 'pineapple' 'gala apple' 'honeycrisp apple'\n",
      " 'tomato' 'watermelon' 'honeydew' 'blueberry' 'blackberry' 'gooseberry'\n",
      " 'papaya']\n"
     ]
    }
   ],
   "source": [
    "## 7. Run the code necessary to produce only the unique string values from fruits.\n",
    "fruit_series.unique\n",
    "print(fruit_series.unique())"
   ]
  },
  {
   "cell_type": "code",
   "execution_count": 40,
   "id": "f545d294",
   "metadata": {},
   "outputs": [
    {
     "name": "stdout",
     "output_type": "stream",
     "text": [
      "kiwi                4\n",
      "mango               2\n",
      "honeydew            1\n",
      "gala apple          1\n",
      "papaya              1\n",
      "honeycrisp apple    1\n",
      "blackberry          1\n",
      "tomato              1\n",
      "gooseberry          1\n",
      "strawberry          1\n",
      "blueberry           1\n",
      "watermelon          1\n",
      "pineapple           1\n",
      "dtype: int64\n"
     ]
    }
   ],
   "source": [
    "## 8. Determine how many times each unique string value occurs in fruits.\n",
    "unique_values = fruit_series.value_counts()\n",
    "print(unique_values)"
   ]
  },
  {
   "cell_type": "code",
   "execution_count": 42,
   "id": "2e73de14",
   "metadata": {
    "scrolled": true
   },
   "outputs": [
    {
     "name": "stdout",
     "output_type": "stream",
     "text": [
      "count       17\n",
      "unique      13\n",
      "top       kiwi\n",
      "freq         4\n",
      "dtype: object\n"
     ]
    }
   ],
   "source": [
    "## 9. Determine the string value that occurs most frequently in fruits.\n",
    "print(fruit_series.describe())\n"
   ]
  },
  {
   "cell_type": "code",
   "execution_count": 49,
   "id": "ed0a4607",
   "metadata": {},
   "outputs": [
    {
     "name": "stdout",
     "output_type": "stream",
     "text": [
      "honeydew            1\n",
      "gala apple          1\n",
      "papaya              1\n",
      "honeycrisp apple    1\n",
      "blackberry          1\n",
      "tomato              1\n",
      "gooseberry          1\n",
      "strawberry          1\n",
      "blueberry           1\n",
      "watermelon          1\n",
      "pineapple           1\n",
      "mango               2\n",
      "kiwi                4\n",
      "dtype: int64\n"
     ]
    }
   ],
   "source": [
    "## 10. Determine the string value that occurs least frequently in fruits.\n",
    "\n",
    "print(fruit_series.value_counts().sort_values())"
   ]
  },
  {
   "cell_type": "code",
   "execution_count": null,
   "id": "1defa8a3",
   "metadata": {},
   "outputs": [],
   "source": []
  },
  {
   "cell_type": "code",
   "execution_count": null,
   "id": "3169db64",
   "metadata": {},
   "outputs": [],
   "source": [
    "########################################EXERCISE SET 2\n"
   ]
  },
  {
   "cell_type": "code",
   "execution_count": 55,
   "id": "79315758",
   "metadata": {},
   "outputs": [
    {
     "data": {
      "text/plain": [
       "0                 Kiwi\n",
       "1                Mango\n",
       "2           Strawberry\n",
       "3            Pineapple\n",
       "4           Gala apple\n",
       "5     Honeycrisp apple\n",
       "6               Tomato\n",
       "7           Watermelon\n",
       "8             Honeydew\n",
       "9                 Kiwi\n",
       "10                Kiwi\n",
       "11                Kiwi\n",
       "12               Mango\n",
       "13           Blueberry\n",
       "14          Blackberry\n",
       "15          Gooseberry\n",
       "16              Papaya\n",
       "dtype: object"
      ]
     },
     "execution_count": 55,
     "metadata": {},
     "output_type": "execute_result"
    }
   ],
   "source": [
    "## 1. Capitalize all the string values in fruits.\n",
    "fruit_series.str.capitalize()"
   ]
  },
  {
   "cell_type": "code",
   "execution_count": 57,
   "id": "dfcda81f",
   "metadata": {},
   "outputs": [
    {
     "data": {
      "text/plain": [
       "0     0\n",
       "1     1\n",
       "2     1\n",
       "3     1\n",
       "4     3\n",
       "5     1\n",
       "6     1\n",
       "7     1\n",
       "8     0\n",
       "9     0\n",
       "10    0\n",
       "11    0\n",
       "12    1\n",
       "13    0\n",
       "14    1\n",
       "15    0\n",
       "16    3\n",
       "dtype: int64"
      ]
     },
     "execution_count": 57,
     "metadata": {},
     "output_type": "execute_result"
    }
   ],
   "source": [
    "## 2. Count the letter \"a\" in all the string values (use string vectorization).\n",
    "\n",
    "fruit_series.str.count('a')"
   ]
  },
  {
   "cell_type": "code",
   "execution_count": 89,
   "id": "5878f70a",
   "metadata": {},
   "outputs": [
    {
     "data": {
      "text/plain": [
       "2"
      ]
     },
     "execution_count": 89,
     "metadata": {},
     "output_type": "execute_result"
    }
   ],
   "source": [
    "## 3. Output the number of vowels in each and every string value.\n",
    "## count vowels\n",
    "vowels = ['a','e','i','o','u']\n",
    "def count_vowels(fruit):\n",
    "    return len([let for let in fruit.lower() if let in vowels])\n",
    "\n",
    "count_vowels('fruit')"
   ]
  },
  {
   "cell_type": "code",
   "execution_count": 90,
   "id": "a35efac4",
   "metadata": {},
   "outputs": [
    {
     "data": {
      "text/plain": [
       "2"
      ]
     },
     "execution_count": 90,
     "metadata": {},
     "output_type": "execute_result"
    }
   ],
   "source": [
    "## 3. Alternative solution\n",
    "def count_vowels(string):\n",
    "    vowels = ['a' 'e', 'i', 'o', 'u']\n",
    "    count = 0\n",
    "    for let in string:\n",
    "        if let in vowels:\n",
    "            count +=1\n",
    "    return count\n",
    "\n",
    "\n",
    "count_vowels('fruit')\n"
   ]
  },
  {
   "cell_type": "code",
   "execution_count": null,
   "id": "3b24e8d1",
   "metadata": {},
   "outputs": [],
   "source": [
    "## EXERCISE SET 3\n",
    "numbers_series = pd.Series([100, 43, 26, 17, 17])\n"
   ]
  },
  {
   "cell_type": "code",
   "execution_count": 133,
   "id": "60d47dcc",
   "metadata": {},
   "outputs": [
    {
     "data": {
      "text/plain": [
       "pandas.core.series.Series"
      ]
     },
     "execution_count": 133,
     "metadata": {},
     "output_type": "execute_result"
    }
   ],
   "source": [
    "let =  'hnvidduckkqxwymbimkccexbkmqygkxoyndmcxnwqarhyffsjpsrabtjzsypmzadfavyrnndndvswreauxovncxtwzpwejilzjrmmbbgbyxvjtewqthafnbkqplarokkyydtubbmnexoypulzwfhqvckdpqtpoppzqrmcvhhpwgjwupgzhiofohawytlsiyecuproguy'\n",
    "letters = pd.Series([let])\n",
    "type(letters)"
   ]
  },
  {
   "cell_type": "code",
   "execution_count": 96,
   "id": "4831b55e",
   "metadata": {},
   "outputs": [
    {
     "name": "stdout",
     "output_type": "stream",
     "text": [
      "('y', 13)\n"
     ]
    }
   ],
   "source": [
    "## 1. Which letter occurs the most frequently in the letters Series?\n",
    "import collections\n",
    "\n",
    "print(collections.Counter(let).most_common(1)[0])"
   ]
  },
  {
   "cell_type": "code",
   "execution_count": 99,
   "id": "b26d8ce5",
   "metadata": {},
   "outputs": [
    {
     "data": {
      "text/plain": [
       "'a'"
      ]
     },
     "execution_count": 99,
     "metadata": {},
     "output_type": "execute_result"
    }
   ],
   "source": [
    "## 2. Which letter occurs the Least frequently?\n",
    "\n",
    "min(collections.Counter(let))"
   ]
  },
  {
   "cell_type": "code",
   "execution_count": 105,
   "id": "b760e9fe",
   "metadata": {},
   "outputs": [
    {
     "data": {
      "text/plain": [
       "0    5\n",
       "dtype: int64"
      ]
     },
     "execution_count": 105,
     "metadata": {},
     "output_type": "execute_result"
    }
   ],
   "source": [
    "## 3. How many vowels are in the Series?\n",
    "#str.count(s)\n",
    "letters.str.count('a')\n",
    "letters.str.count('e')\n",
    "letters.str.count('i')\n",
    "letters.str.count('o')\n",
    "letters.str.count('u')"
   ]
  },
  {
   "cell_type": "code",
   "execution_count": 106,
   "id": "1708718d",
   "metadata": {},
   "outputs": [
    {
     "name": "stdout",
     "output_type": "stream",
     "text": [
      "Please Enter Your Own String : hnvidduckkqxwymbimkccexbkmqygkxoyndmcxnwqarhyffsjpsrabtjzsypmzadfavyrnndndvswreauxovncxtwzpwejilzjrmmbbgbyxvjtewqthafnbkqplarokkyydtubbmnexoypulzwfhqvckdpqtpoppzqrmcvhhpwgjwupgzhiofohawytlsiyecuproguy\n",
      "Total Number of Vowels in this String =  34\n",
      "Total Number of Consonants in this String =  166\n"
     ]
    }
   ],
   "source": [
    "## 4.  How many consonants are in the Series?\n",
    "\n",
    "str1 = input(\"Please Enter Your Own String : \")\n",
    "vowels = 0\n",
    "consonants = 0\n",
    "\n",
    "for i in str1:\n",
    "    if(i == 'a' or i == 'e' or i == 'i' or i == 'o' or i == 'u'\n",
    "       or i == 'A' or i == 'E' or i == 'I' or i == 'O' or i == 'U'):\n",
    "        vowels = vowels + 1\n",
    "    else:\n",
    "        consonants = consonants + 1\n",
    " \n",
    "print(\"Total Number of Vowels in this String = \", vowels)\n",
    "print(\"Total Number of Consonants in this String = \", consonants)"
   ]
  },
  {
   "cell_type": "code",
   "execution_count": 116,
   "id": "19d85f8e",
   "metadata": {},
   "outputs": [
    {
     "data": {
      "text/plain": [
       "0    HNVIDDUCKKQXWYMBIMKCCEXBKMQYGKXOYNDMCXNWQARHYF...\n",
       "dtype: object"
      ]
     },
     "execution_count": 116,
     "metadata": {},
     "output_type": "execute_result"
    }
   ],
   "source": [
    "## 5. Create a Series that has all of the same letters but uppercased.\n",
    "\n",
    "letters.str.upper()"
   ]
  },
  {
   "cell_type": "code",
   "execution_count": 117,
   "id": "5303ac6b",
   "metadata": {},
   "outputs": [
    {
     "name": "stdout",
     "output_type": "stream",
     "text": [
      "('y', 13)\n"
     ]
    }
   ],
   "source": [
    "## 6. Create a bar plot of the frequencies of the 6 most commonly occuring letters.\n",
    "print(collections.Counter(let).most_common()\n"
   ]
  },
  {
   "cell_type": "code",
   "execution_count": 131,
   "id": "a200b371",
   "metadata": {},
   "outputs": [
    {
     "ename": "TypeError",
     "evalue": "Cannot use method 'nlargest' with dtype object",
     "output_type": "error",
     "traceback": [
      "\u001b[0;31m---------------------------------------------------------------------------\u001b[0m",
      "\u001b[0;31mTypeError\u001b[0m                                 Traceback (most recent call last)",
      "\u001b[0;32m<ipython-input-131-bfc91a57cf4f>\u001b[0m in \u001b[0;36m<module>\u001b[0;34m\u001b[0m\n\u001b[1;32m      1\u001b[0m \u001b[0;31m## 7. Create a bar plot of the frequencies of the 6 most commonly occuring letters.\u001b[0m\u001b[0;34m\u001b[0m\u001b[0;34m\u001b[0m\u001b[0;34m\u001b[0m\u001b[0m\n\u001b[0;32m----> 2\u001b[0;31m \u001b[0mletters\u001b[0m\u001b[0;34m.\u001b[0m\u001b[0mnlargest\u001b[0m\u001b[0;34m(\u001b[0m\u001b[0mn\u001b[0m\u001b[0;34m=\u001b[0m\u001b[0;36m6\u001b[0m\u001b[0;34m)\u001b[0m\u001b[0;34m\u001b[0m\u001b[0;34m\u001b[0m\u001b[0m\n\u001b[0m",
      "\u001b[0;32m/usr/local/anaconda3/lib/python3.8/site-packages/pandas/core/series.py\u001b[0m in \u001b[0;36mnlargest\u001b[0;34m(self, n, keep)\u001b[0m\n\u001b[1;32m   3572\u001b[0m         \u001b[0mdtype\u001b[0m\u001b[0;34m:\u001b[0m \u001b[0mint64\u001b[0m\u001b[0;34m\u001b[0m\u001b[0;34m\u001b[0m\u001b[0m\n\u001b[1;32m   3573\u001b[0m         \"\"\"\n\u001b[0;32m-> 3574\u001b[0;31m         \u001b[0;32mreturn\u001b[0m \u001b[0malgorithms\u001b[0m\u001b[0;34m.\u001b[0m\u001b[0mSelectNSeries\u001b[0m\u001b[0;34m(\u001b[0m\u001b[0mself\u001b[0m\u001b[0;34m,\u001b[0m \u001b[0mn\u001b[0m\u001b[0;34m=\u001b[0m\u001b[0mn\u001b[0m\u001b[0;34m,\u001b[0m \u001b[0mkeep\u001b[0m\u001b[0;34m=\u001b[0m\u001b[0mkeep\u001b[0m\u001b[0;34m)\u001b[0m\u001b[0;34m.\u001b[0m\u001b[0mnlargest\u001b[0m\u001b[0;34m(\u001b[0m\u001b[0;34m)\u001b[0m\u001b[0;34m\u001b[0m\u001b[0;34m\u001b[0m\u001b[0m\n\u001b[0m\u001b[1;32m   3575\u001b[0m \u001b[0;34m\u001b[0m\u001b[0m\n\u001b[1;32m   3576\u001b[0m     \u001b[0;32mdef\u001b[0m \u001b[0mnsmallest\u001b[0m\u001b[0;34m(\u001b[0m\u001b[0mself\u001b[0m\u001b[0;34m,\u001b[0m \u001b[0mn\u001b[0m\u001b[0;34m=\u001b[0m\u001b[0;36m5\u001b[0m\u001b[0;34m,\u001b[0m \u001b[0mkeep\u001b[0m\u001b[0;34m=\u001b[0m\u001b[0;34m\"first\"\u001b[0m\u001b[0;34m)\u001b[0m \u001b[0;34m->\u001b[0m \u001b[0;34m\"Series\"\u001b[0m\u001b[0;34m:\u001b[0m\u001b[0;34m\u001b[0m\u001b[0;34m\u001b[0m\u001b[0m\n",
      "\u001b[0;32m/usr/local/anaconda3/lib/python3.8/site-packages/pandas/core/algorithms.py\u001b[0m in \u001b[0;36mnlargest\u001b[0;34m(self)\u001b[0m\n\u001b[1;32m   1181\u001b[0m \u001b[0;34m\u001b[0m\u001b[0m\n\u001b[1;32m   1182\u001b[0m     \u001b[0;32mdef\u001b[0m \u001b[0mnlargest\u001b[0m\u001b[0;34m(\u001b[0m\u001b[0mself\u001b[0m\u001b[0;34m)\u001b[0m\u001b[0;34m:\u001b[0m\u001b[0;34m\u001b[0m\u001b[0;34m\u001b[0m\u001b[0m\n\u001b[0;32m-> 1183\u001b[0;31m         \u001b[0;32mreturn\u001b[0m \u001b[0mself\u001b[0m\u001b[0;34m.\u001b[0m\u001b[0mcompute\u001b[0m\u001b[0;34m(\u001b[0m\u001b[0;34m\"nlargest\"\u001b[0m\u001b[0;34m)\u001b[0m\u001b[0;34m\u001b[0m\u001b[0;34m\u001b[0m\u001b[0m\n\u001b[0m\u001b[1;32m   1184\u001b[0m \u001b[0;34m\u001b[0m\u001b[0m\n\u001b[1;32m   1185\u001b[0m     \u001b[0;32mdef\u001b[0m \u001b[0mnsmallest\u001b[0m\u001b[0;34m(\u001b[0m\u001b[0mself\u001b[0m\u001b[0;34m)\u001b[0m\u001b[0;34m:\u001b[0m\u001b[0;34m\u001b[0m\u001b[0;34m\u001b[0m\u001b[0m\n",
      "\u001b[0;32m/usr/local/anaconda3/lib/python3.8/site-packages/pandas/core/algorithms.py\u001b[0m in \u001b[0;36mcompute\u001b[0;34m(self, method)\u001b[0m\n\u001b[1;32m   1217\u001b[0m         \u001b[0mdtype\u001b[0m \u001b[0;34m=\u001b[0m \u001b[0mself\u001b[0m\u001b[0;34m.\u001b[0m\u001b[0mobj\u001b[0m\u001b[0;34m.\u001b[0m\u001b[0mdtype\u001b[0m\u001b[0;34m\u001b[0m\u001b[0;34m\u001b[0m\u001b[0m\n\u001b[1;32m   1218\u001b[0m         \u001b[0;32mif\u001b[0m \u001b[0;32mnot\u001b[0m \u001b[0mself\u001b[0m\u001b[0;34m.\u001b[0m\u001b[0mis_valid_dtype_n_method\u001b[0m\u001b[0;34m(\u001b[0m\u001b[0mdtype\u001b[0m\u001b[0;34m)\u001b[0m\u001b[0;34m:\u001b[0m\u001b[0;34m\u001b[0m\u001b[0;34m\u001b[0m\u001b[0m\n\u001b[0;32m-> 1219\u001b[0;31m             \u001b[0;32mraise\u001b[0m \u001b[0mTypeError\u001b[0m\u001b[0;34m(\u001b[0m\u001b[0;34mf\"Cannot use method '{method}' with dtype {dtype}\"\u001b[0m\u001b[0;34m)\u001b[0m\u001b[0;34m\u001b[0m\u001b[0;34m\u001b[0m\u001b[0m\n\u001b[0m\u001b[1;32m   1220\u001b[0m \u001b[0;34m\u001b[0m\u001b[0m\n\u001b[1;32m   1221\u001b[0m         \u001b[0;32mif\u001b[0m \u001b[0mn\u001b[0m \u001b[0;34m<=\u001b[0m \u001b[0;36m0\u001b[0m\u001b[0;34m:\u001b[0m\u001b[0;34m\u001b[0m\u001b[0;34m\u001b[0m\u001b[0m\n",
      "\u001b[0;31mTypeError\u001b[0m: Cannot use method 'nlargest' with dtype object"
     ]
    }
   ],
   "source": [
    "## 7. Create a bar plot of the frequencies of the 6 most commonly occuring letters.\n",
    "letters.nlargest(n=6)"
   ]
  },
  {
   "cell_type": "code",
   "execution_count": null,
   "id": "d71989c2",
   "metadata": {},
   "outputs": [],
   "source": []
  }
 ],
 "metadata": {
  "kernelspec": {
   "display_name": "Python 3",
   "language": "python",
   "name": "python3"
  },
  "language_info": {
   "codemirror_mode": {
    "name": "ipython",
    "version": 3
   },
   "file_extension": ".py",
   "mimetype": "text/x-python",
   "name": "python",
   "nbconvert_exporter": "python",
   "pygments_lexer": "ipython3",
   "version": "3.8.8"
  }
 },
 "nbformat": 4,
 "nbformat_minor": 5
}
